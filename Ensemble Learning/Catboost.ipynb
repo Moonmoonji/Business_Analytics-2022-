{
 "cells": [
  {
   "cell_type": "markdown",
   "metadata": {},
   "source": [
    "# Catboost"
   ]
  },
  {
   "cell_type": "markdown",
   "metadata": {},
   "source": [
    "✅간략한 설명\n",
    "* Boosting 기반의 모델\n",
    "* GBM은 치명적인 문제로 과적합 문제가 존재하는데, Catboost는 과적합 문제를 해결함과 동시에 기존 GBM 계열 알고리즘인 Xgboost, LightGBM 알고리즘보다 학습속도를 개선하는 장점을 갖음 \n",
    "* 또한 XGBoost, LightGBM이 Hyperparameter에 민감한 문제를 해결하는 것에 초점을 맞춘 모델임 \n",
    "* 대부분이 범주형변수로 이루어진 데이터셋에서 예측 성능이 우수한 것으로 알려져 있음\n",
    "* 범주형 변수를 One-hot enoding, Label encoding 등 encoding 작업을 하지 않고도 그대로 모델의 input으로 사용할 수 있다는 장점이 있음 \n",
    "\n",
    "![](img/2022-12-01-16-36-01.png)"
   ]
  },
  {
   "cell_type": "markdown",
   "metadata": {},
   "source": [
    "✅사용할 데이터 설명\n",
    "* 문제 : 신용카드 사용자의 연쳬를 예측함\n",
    "* train : 신용카드 사용자들의 개인 신상정보 (credit 열 포함)\n",
    "* test : 신용카드 사용자들의 개인 신상정보 (credit 열 미포함)"
   ]
  },
  {
   "cell_type": "markdown",
   "metadata": {},
   "source": [
    "## 라이브러리 불러오기"
   ]
  },
  {
   "cell_type": "code",
   "execution_count": 15,
   "metadata": {},
   "outputs": [],
   "source": [
    "import numpy as np\n",
    "import pandas as pd\n",
    "import seaborn as sns\n",
    "import matplotlib.pyplot as plt\n",
    "import warnings, random\n",
    "warnings.filterwarnings(action='ignore')\n",
    "\n",
    "from sklearn.metrics import log_loss\n",
    "from sklearn.preprocessing import StandardScaler\n",
    "from category_encoders.ordinal import OrdinalEncoder\n",
    "from sklearn.model_selection import StratifiedKFold\n",
    "\n",
    "from sklearn.cluster import KMeans\n",
    "from catboost import CatBoostClassifier, Pool\n",
    "\n"
   ]
  },
  {
   "cell_type": "markdown",
   "metadata": {},
   "source": [
    "## 데이터 불러오기"
   ]
  },
  {
   "cell_type": "code",
   "execution_count": 16,
   "metadata": {},
   "outputs": [],
   "source": [
    "path = 'C:/Users/JiwonMoon/Desktop/Data/open/'\n",
    "train = pd.read_csv(path+'train.csv')\n",
    "test = pd.read_csv(path+'test.csv')"
   ]
  },
  {
   "cell_type": "markdown",
   "metadata": {},
   "source": [
    "## 데이터 전처리"
   ]
  },
  {
   "cell_type": "markdown",
   "metadata": {},
   "source": [
    "### 1. 결측치 처리"
   ]
  },
  {
   "cell_type": "code",
   "execution_count": 17,
   "metadata": {},
   "outputs": [
    {
     "data": {
      "text/html": [
       "<div>\n",
       "<style scoped>\n",
       "    .dataframe tbody tr th:only-of-type {\n",
       "        vertical-align: middle;\n",
       "    }\n",
       "\n",
       "    .dataframe tbody tr th {\n",
       "        vertical-align: top;\n",
       "    }\n",
       "\n",
       "    .dataframe thead th {\n",
       "        text-align: right;\n",
       "    }\n",
       "</style>\n",
       "<table border=\"1\" class=\"dataframe\">\n",
       "  <thead>\n",
       "    <tr style=\"text-align: right;\">\n",
       "      <th></th>\n",
       "      <th>index</th>\n",
       "      <th>gender</th>\n",
       "      <th>car</th>\n",
       "      <th>reality</th>\n",
       "      <th>child_num</th>\n",
       "      <th>income_total</th>\n",
       "      <th>income_type</th>\n",
       "      <th>edu_type</th>\n",
       "      <th>family_type</th>\n",
       "      <th>house_type</th>\n",
       "      <th>DAYS_BIRTH</th>\n",
       "      <th>DAYS_EMPLOYED</th>\n",
       "      <th>FLAG_MOBIL</th>\n",
       "      <th>work_phone</th>\n",
       "      <th>phone</th>\n",
       "      <th>email</th>\n",
       "      <th>occyp_type</th>\n",
       "      <th>family_size</th>\n",
       "      <th>begin_month</th>\n",
       "      <th>credit</th>\n",
       "    </tr>\n",
       "  </thead>\n",
       "  <tbody>\n",
       "    <tr>\n",
       "      <th>0</th>\n",
       "      <td>0</td>\n",
       "      <td>F</td>\n",
       "      <td>N</td>\n",
       "      <td>N</td>\n",
       "      <td>0</td>\n",
       "      <td>202500.0</td>\n",
       "      <td>Commercial associate</td>\n",
       "      <td>Higher education</td>\n",
       "      <td>Married</td>\n",
       "      <td>Municipal apartment</td>\n",
       "      <td>-13899</td>\n",
       "      <td>-4709</td>\n",
       "      <td>1</td>\n",
       "      <td>0</td>\n",
       "      <td>0</td>\n",
       "      <td>0</td>\n",
       "      <td>NaN</td>\n",
       "      <td>2.0</td>\n",
       "      <td>-6.0</td>\n",
       "      <td>1.0</td>\n",
       "    </tr>\n",
       "    <tr>\n",
       "      <th>1</th>\n",
       "      <td>1</td>\n",
       "      <td>F</td>\n",
       "      <td>N</td>\n",
       "      <td>Y</td>\n",
       "      <td>1</td>\n",
       "      <td>247500.0</td>\n",
       "      <td>Commercial associate</td>\n",
       "      <td>Secondary / secondary special</td>\n",
       "      <td>Civil marriage</td>\n",
       "      <td>House / apartment</td>\n",
       "      <td>-11380</td>\n",
       "      <td>-1540</td>\n",
       "      <td>1</td>\n",
       "      <td>0</td>\n",
       "      <td>0</td>\n",
       "      <td>1</td>\n",
       "      <td>Laborers</td>\n",
       "      <td>3.0</td>\n",
       "      <td>-5.0</td>\n",
       "      <td>1.0</td>\n",
       "    </tr>\n",
       "    <tr>\n",
       "      <th>2</th>\n",
       "      <td>2</td>\n",
       "      <td>M</td>\n",
       "      <td>Y</td>\n",
       "      <td>Y</td>\n",
       "      <td>0</td>\n",
       "      <td>450000.0</td>\n",
       "      <td>Working</td>\n",
       "      <td>Higher education</td>\n",
       "      <td>Married</td>\n",
       "      <td>House / apartment</td>\n",
       "      <td>-19087</td>\n",
       "      <td>-4434</td>\n",
       "      <td>1</td>\n",
       "      <td>0</td>\n",
       "      <td>1</td>\n",
       "      <td>0</td>\n",
       "      <td>Managers</td>\n",
       "      <td>2.0</td>\n",
       "      <td>-22.0</td>\n",
       "      <td>2.0</td>\n",
       "    </tr>\n",
       "    <tr>\n",
       "      <th>3</th>\n",
       "      <td>3</td>\n",
       "      <td>F</td>\n",
       "      <td>N</td>\n",
       "      <td>Y</td>\n",
       "      <td>0</td>\n",
       "      <td>202500.0</td>\n",
       "      <td>Commercial associate</td>\n",
       "      <td>Secondary / secondary special</td>\n",
       "      <td>Married</td>\n",
       "      <td>House / apartment</td>\n",
       "      <td>-15088</td>\n",
       "      <td>-2092</td>\n",
       "      <td>1</td>\n",
       "      <td>0</td>\n",
       "      <td>1</td>\n",
       "      <td>0</td>\n",
       "      <td>Sales staff</td>\n",
       "      <td>2.0</td>\n",
       "      <td>-37.0</td>\n",
       "      <td>0.0</td>\n",
       "    </tr>\n",
       "    <tr>\n",
       "      <th>4</th>\n",
       "      <td>4</td>\n",
       "      <td>F</td>\n",
       "      <td>Y</td>\n",
       "      <td>Y</td>\n",
       "      <td>0</td>\n",
       "      <td>157500.0</td>\n",
       "      <td>State servant</td>\n",
       "      <td>Higher education</td>\n",
       "      <td>Married</td>\n",
       "      <td>House / apartment</td>\n",
       "      <td>-15037</td>\n",
       "      <td>-2105</td>\n",
       "      <td>1</td>\n",
       "      <td>0</td>\n",
       "      <td>0</td>\n",
       "      <td>0</td>\n",
       "      <td>Managers</td>\n",
       "      <td>2.0</td>\n",
       "      <td>-26.0</td>\n",
       "      <td>2.0</td>\n",
       "    </tr>\n",
       "  </tbody>\n",
       "</table>\n",
       "</div>"
      ],
      "text/plain": [
       "   index gender car reality  child_num  income_total           income_type  \\\n",
       "0      0      F   N       N          0      202500.0  Commercial associate   \n",
       "1      1      F   N       Y          1      247500.0  Commercial associate   \n",
       "2      2      M   Y       Y          0      450000.0               Working   \n",
       "3      3      F   N       Y          0      202500.0  Commercial associate   \n",
       "4      4      F   Y       Y          0      157500.0         State servant   \n",
       "\n",
       "                        edu_type     family_type           house_type  \\\n",
       "0               Higher education         Married  Municipal apartment   \n",
       "1  Secondary / secondary special  Civil marriage    House / apartment   \n",
       "2               Higher education         Married    House / apartment   \n",
       "3  Secondary / secondary special         Married    House / apartment   \n",
       "4               Higher education         Married    House / apartment   \n",
       "\n",
       "   DAYS_BIRTH  DAYS_EMPLOYED  FLAG_MOBIL  work_phone  phone  email  \\\n",
       "0      -13899          -4709           1           0      0      0   \n",
       "1      -11380          -1540           1           0      0      1   \n",
       "2      -19087          -4434           1           0      1      0   \n",
       "3      -15088          -2092           1           0      1      0   \n",
       "4      -15037          -2105           1           0      0      0   \n",
       "\n",
       "    occyp_type  family_size  begin_month  credit  \n",
       "0          NaN          2.0         -6.0     1.0  \n",
       "1     Laborers          3.0         -5.0     1.0  \n",
       "2     Managers          2.0        -22.0     2.0  \n",
       "3  Sales staff          2.0        -37.0     0.0  \n",
       "4     Managers          2.0        -26.0     2.0  "
      ]
     },
     "execution_count": 17,
     "metadata": {},
     "output_type": "execute_result"
    }
   ],
   "source": [
    "train.head()"
   ]
  },
  {
   "cell_type": "code",
   "execution_count": 20,
   "metadata": {},
   "outputs": [],
   "source": [
    "train.fillna('NaN',inplace=True)\n",
    "test.fillna('NaN', inplace=True)"
   ]
  },
  {
   "cell_type": "markdown",
   "metadata": {},
   "source": [
    "### 2. 이상치 처리"
   ]
  },
  {
   "cell_type": "code",
   "execution_count": 21,
   "metadata": {},
   "outputs": [],
   "source": [
    "train = train[(train['family_size'] <= 7)]\n",
    "train = train.reset_index(drop=True)"
   ]
  },
  {
   "cell_type": "markdown",
   "metadata": {},
   "source": [
    "## Feature Engineering"
   ]
  },
  {
   "cell_type": "markdown",
   "metadata": {},
   "source": [
    "### 1. 의미없는 변수 제거"
   ]
  },
  {
   "cell_type": "code",
   "execution_count": 22,
   "metadata": {},
   "outputs": [],
   "source": [
    "train.drop(['index', 'FLAG_MOBIL'], axis=1, inplace=True)\n",
    "test.drop(['index', 'FLAG_MOBIL'], axis=1, inplace=True)"
   ]
  },
  {
   "cell_type": "markdown",
   "metadata": {},
   "source": [
    "### 2. Days_Employed가 양수인 데이터는 무직자로 판단, 0처리"
   ]
  },
  {
   "cell_type": "code",
   "execution_count": 23,
   "metadata": {},
   "outputs": [],
   "source": [
    "train['DAYS_EMPLOYED'] = train['DAYS_EMPLOYED'].map(lambda x: 0 if x > 0 else x)\n",
    "test['DAYS_EMPLOYED'] = test['DAYS_EMPLOYED'].map(lambda x: 0 if x > 0 else x)"
   ]
  },
  {
   "cell_type": "markdown",
   "metadata": {},
   "source": [
    "### 3. Days_birth, begin_month, days_employed 음수-> 양수 변환"
   ]
  },
  {
   "cell_type": "code",
   "execution_count": 24,
   "metadata": {},
   "outputs": [],
   "source": [
    "feats = ['DAYS_BIRTH', 'begin_month', 'DAYS_EMPLOYED']\n",
    "for feat in feats:\n",
    "    train[feat]=np.abs(train[feat])\n",
    "    test[feat]=np.abs(test[feat])"
   ]
  },
  {
   "cell_type": "markdown",
   "metadata": {},
   "source": [
    "### 4. 파생변수 "
   ]
  },
  {
   "cell_type": "code",
   "execution_count": 25,
   "metadata": {},
   "outputs": [],
   "source": [
    "for df in [train,test]:\n",
    "    # before_EMPLOYED: 고용되기 전까지의 일수\n",
    "    df['before_EMPLOYED'] = df['DAYS_BIRTH'] - df['DAYS_EMPLOYED']\n",
    "    df['income_total_befofeEMP_ratio'] = df['income_total'] / df['before_EMPLOYED']\n",
    "    df['before_EMPLOYED_m'] = np.floor(df['before_EMPLOYED'] / 30) - ((np.floor(df['before_EMPLOYED'] / 30) / 12).astype(int) * 12)\n",
    "    df['before_EMPLOYED_w'] = np.floor(df['before_EMPLOYED'] / 7) - ((np.floor(df['before_EMPLOYED'] / 7) / 4).astype(int) * 4)\n",
    "\n",
    "     #DAYS_BIRTH 파생변수- Age(나이), 태어난 월, 태어난 주(출생연도의 n주차)\n",
    "    df['Age'] = df['DAYS_BIRTH'] // 365\n",
    "    df['DAYS_BIRTH_m'] = np.floor(df['DAYS_BIRTH'] / 30) - ((np.floor(df['DAYS_BIRTH'] / 30) / 12).astype(int) * 12)\n",
    "    df['DAYS_BIRTH_w'] = np.floor(df['DAYS_BIRTH'] / 7) - ((np.floor(df['DAYS_BIRTH'] / 7) / 4).astype(int) * 4)\n",
    "\n",
    "     #DAYS_EMPLOYED_m 파생변수- EMPLOYED(근속연수), DAYS_EMPLOYED_m(고용된 달) ,DAYS_EMPLOYED_w(고용된 주(고용연도의 n주차))  \n",
    "    df['EMPLOYED'] = df['DAYS_EMPLOYED'] // 365\n",
    "    df['DAYS_EMPLOYED_m'] = np.floor(df['DAYS_EMPLOYED'] / 30) - ((np.floor(df['DAYS_EMPLOYED'] / 30) / 12).astype(int) * 12)\n",
    "    df['DAYS_EMPLOYED_w'] = np.floor(df['DAYS_EMPLOYED'] / 7) - ((np.floor(df['DAYS_EMPLOYED'] / 7) / 4).astype(int) * 4)\n",
    "\n",
    "    #ability: 소득/(살아온 일수+ 근무일수)\n",
    "    df['ability'] = df['income_total'] / (df['DAYS_BIRTH'] + df['DAYS_EMPLOYED'])\n",
    "    \n",
    "    #income_mean: 소득/ 가족 수\n",
    "    df['income_mean'] = df['income_total'] / df['family_size']\n",
    "\n",
    "    #ID 생성: 각 컬럼의 값들을 더해서 고유한 사람을 파악(*한 사람이 여러 개 카드를 만들 가능성을 고려해 begin_month는 제외함)\n",
    "    df['ID'] = \\\n",
    "    df['child_num'].astype(str) + '_' + df['income_total'].astype(str) + '_' +\\\n",
    "    df['DAYS_BIRTH'].astype(str) + '_' + df['DAYS_EMPLOYED'].astype(str) + '_' +\\\n",
    "    df['work_phone'].astype(str) + '_' + df['phone'].astype(str) + '_' +\\\n",
    "    df['email'].astype(str) + '_' + df['family_size'].astype(str) + '_' +\\\n",
    "    df['gender'].astype(str) + '_' + df['car'].astype(str) + '_' +\\\n",
    "    df['reality'].astype(str) + '_' + df['income_type'].astype(str) + '_' +\\\n",
    "    df['edu_type'].astype(str) + '_' + df['family_type'].astype(str) + '_' +\\\n",
    "    df['house_type'].astype(str) + '_' + df['occyp_type'].astype(str)\n",
    "\n",
    "\n"
   ]
  },
  {
   "cell_type": "code",
   "execution_count": 27,
   "metadata": {},
   "outputs": [
    {
     "data": {
      "text/html": [
       "<div>\n",
       "<style scoped>\n",
       "    .dataframe tbody tr th:only-of-type {\n",
       "        vertical-align: middle;\n",
       "    }\n",
       "\n",
       "    .dataframe tbody tr th {\n",
       "        vertical-align: top;\n",
       "    }\n",
       "\n",
       "    .dataframe thead th {\n",
       "        text-align: right;\n",
       "    }\n",
       "</style>\n",
       "<table border=\"1\" class=\"dataframe\">\n",
       "  <thead>\n",
       "    <tr style=\"text-align: right;\">\n",
       "      <th></th>\n",
       "      <th>gender</th>\n",
       "      <th>car</th>\n",
       "      <th>reality</th>\n",
       "      <th>child_num</th>\n",
       "      <th>income_total</th>\n",
       "      <th>income_type</th>\n",
       "      <th>edu_type</th>\n",
       "      <th>family_type</th>\n",
       "      <th>house_type</th>\n",
       "      <th>DAYS_BIRTH</th>\n",
       "      <th>...</th>\n",
       "      <th>before_EMPLOYED_w</th>\n",
       "      <th>Age</th>\n",
       "      <th>DAYS_BIRTH_m</th>\n",
       "      <th>DAYS_BIRTH_w</th>\n",
       "      <th>EMPLOYED</th>\n",
       "      <th>DAYS_EMPLOYED_m</th>\n",
       "      <th>DAYS_EMPLOYED_w</th>\n",
       "      <th>ability</th>\n",
       "      <th>income_mean</th>\n",
       "      <th>ID</th>\n",
       "    </tr>\n",
       "  </thead>\n",
       "  <tbody>\n",
       "    <tr>\n",
       "      <th>0</th>\n",
       "      <td>F</td>\n",
       "      <td>N</td>\n",
       "      <td>N</td>\n",
       "      <td>0</td>\n",
       "      <td>202500.0</td>\n",
       "      <td>Commercial associate</td>\n",
       "      <td>Higher education</td>\n",
       "      <td>Married</td>\n",
       "      <td>Municipal apartment</td>\n",
       "      <td>13899</td>\n",
       "      <td>...</td>\n",
       "      <td>0.0</td>\n",
       "      <td>38</td>\n",
       "      <td>7.0</td>\n",
       "      <td>1.0</td>\n",
       "      <td>12</td>\n",
       "      <td>0.0</td>\n",
       "      <td>0.0</td>\n",
       "      <td>10.882416</td>\n",
       "      <td>101250.0</td>\n",
       "      <td>0_202500.0_13899_4709_0_0_0_2.0_F_N_N_Commerci...</td>\n",
       "    </tr>\n",
       "    <tr>\n",
       "      <th>1</th>\n",
       "      <td>F</td>\n",
       "      <td>N</td>\n",
       "      <td>Y</td>\n",
       "      <td>1</td>\n",
       "      <td>247500.0</td>\n",
       "      <td>Commercial associate</td>\n",
       "      <td>Secondary / secondary special</td>\n",
       "      <td>Civil marriage</td>\n",
       "      <td>House / apartment</td>\n",
       "      <td>11380</td>\n",
       "      <td>...</td>\n",
       "      <td>1.0</td>\n",
       "      <td>31</td>\n",
       "      <td>7.0</td>\n",
       "      <td>1.0</td>\n",
       "      <td>4</td>\n",
       "      <td>3.0</td>\n",
       "      <td>0.0</td>\n",
       "      <td>19.156347</td>\n",
       "      <td>82500.0</td>\n",
       "      <td>1_247500.0_11380_1540_0_0_1_3.0_F_N_Y_Commerci...</td>\n",
       "    </tr>\n",
       "    <tr>\n",
       "      <th>2</th>\n",
       "      <td>M</td>\n",
       "      <td>Y</td>\n",
       "      <td>Y</td>\n",
       "      <td>0</td>\n",
       "      <td>450000.0</td>\n",
       "      <td>Working</td>\n",
       "      <td>Higher education</td>\n",
       "      <td>Married</td>\n",
       "      <td>House / apartment</td>\n",
       "      <td>19087</td>\n",
       "      <td>...</td>\n",
       "      <td>1.0</td>\n",
       "      <td>52</td>\n",
       "      <td>0.0</td>\n",
       "      <td>2.0</td>\n",
       "      <td>12</td>\n",
       "      <td>3.0</td>\n",
       "      <td>1.0</td>\n",
       "      <td>19.131840</td>\n",
       "      <td>225000.0</td>\n",
       "      <td>0_450000.0_19087_4434_0_1_0_2.0_M_Y_Y_Working_...</td>\n",
       "    </tr>\n",
       "    <tr>\n",
       "      <th>3</th>\n",
       "      <td>F</td>\n",
       "      <td>N</td>\n",
       "      <td>Y</td>\n",
       "      <td>0</td>\n",
       "      <td>202500.0</td>\n",
       "      <td>Commercial associate</td>\n",
       "      <td>Secondary / secondary special</td>\n",
       "      <td>Married</td>\n",
       "      <td>House / apartment</td>\n",
       "      <td>15088</td>\n",
       "      <td>...</td>\n",
       "      <td>0.0</td>\n",
       "      <td>41</td>\n",
       "      <td>10.0</td>\n",
       "      <td>3.0</td>\n",
       "      <td>5</td>\n",
       "      <td>9.0</td>\n",
       "      <td>2.0</td>\n",
       "      <td>11.786962</td>\n",
       "      <td>101250.0</td>\n",
       "      <td>0_202500.0_15088_2092_0_1_0_2.0_F_N_Y_Commerci...</td>\n",
       "    </tr>\n",
       "    <tr>\n",
       "      <th>4</th>\n",
       "      <td>F</td>\n",
       "      <td>Y</td>\n",
       "      <td>Y</td>\n",
       "      <td>0</td>\n",
       "      <td>157500.0</td>\n",
       "      <td>State servant</td>\n",
       "      <td>Higher education</td>\n",
       "      <td>Married</td>\n",
       "      <td>House / apartment</td>\n",
       "      <td>15037</td>\n",
       "      <td>...</td>\n",
       "      <td>3.0</td>\n",
       "      <td>41</td>\n",
       "      <td>9.0</td>\n",
       "      <td>0.0</td>\n",
       "      <td>5</td>\n",
       "      <td>10.0</td>\n",
       "      <td>0.0</td>\n",
       "      <td>9.187959</td>\n",
       "      <td>78750.0</td>\n",
       "      <td>0_157500.0_15037_2105_0_0_0_2.0_F_Y_Y_State se...</td>\n",
       "    </tr>\n",
       "  </tbody>\n",
       "</table>\n",
       "<p>5 rows × 31 columns</p>\n",
       "</div>"
      ],
      "text/plain": [
       "  gender car reality  child_num  income_total           income_type  \\\n",
       "0      F   N       N          0      202500.0  Commercial associate   \n",
       "1      F   N       Y          1      247500.0  Commercial associate   \n",
       "2      M   Y       Y          0      450000.0               Working   \n",
       "3      F   N       Y          0      202500.0  Commercial associate   \n",
       "4      F   Y       Y          0      157500.0         State servant   \n",
       "\n",
       "                        edu_type     family_type           house_type  \\\n",
       "0               Higher education         Married  Municipal apartment   \n",
       "1  Secondary / secondary special  Civil marriage    House / apartment   \n",
       "2               Higher education         Married    House / apartment   \n",
       "3  Secondary / secondary special         Married    House / apartment   \n",
       "4               Higher education         Married    House / apartment   \n",
       "\n",
       "   DAYS_BIRTH  ...  before_EMPLOYED_w  Age  DAYS_BIRTH_m  DAYS_BIRTH_w  \\\n",
       "0       13899  ...                0.0   38           7.0           1.0   \n",
       "1       11380  ...                1.0   31           7.0           1.0   \n",
       "2       19087  ...                1.0   52           0.0           2.0   \n",
       "3       15088  ...                0.0   41          10.0           3.0   \n",
       "4       15037  ...                3.0   41           9.0           0.0   \n",
       "\n",
       "  EMPLOYED  DAYS_EMPLOYED_m  DAYS_EMPLOYED_w    ability  income_mean  \\\n",
       "0       12              0.0              0.0  10.882416     101250.0   \n",
       "1        4              3.0              0.0  19.156347      82500.0   \n",
       "2       12              3.0              1.0  19.131840     225000.0   \n",
       "3        5              9.0              2.0  11.786962     101250.0   \n",
       "4        5             10.0              0.0   9.187959      78750.0   \n",
       "\n",
       "                                                  ID  \n",
       "0  0_202500.0_13899_4709_0_0_0_2.0_F_N_N_Commerci...  \n",
       "1  1_247500.0_11380_1540_0_0_1_3.0_F_N_Y_Commerci...  \n",
       "2  0_450000.0_19087_4434_0_1_0_2.0_M_Y_Y_Working_...  \n",
       "3  0_202500.0_15088_2092_0_1_0_2.0_F_N_Y_Commerci...  \n",
       "4  0_157500.0_15037_2105_0_0_0_2.0_F_Y_Y_State se...  \n",
       "\n",
       "[5 rows x 31 columns]"
      ]
     },
     "execution_count": 27,
     "metadata": {},
     "output_type": "execute_result"
    }
   ],
   "source": [
    "train.head()"
   ]
  },
  {
   "cell_type": "markdown",
   "metadata": {},
   "source": [
    "### 5. 파생변수와 다중공선성을 보이는 칼럼 삭제"
   ]
  },
  {
   "cell_type": "code",
   "execution_count": 28,
   "metadata": {},
   "outputs": [],
   "source": [
    "cols = ['child_num', 'DAYS_BIRTH', 'DAYS_EMPLOYED',]\n",
    "train.drop(cols, axis=1, inplace=True)\n",
    "test.drop(cols, axis=1, inplace=True)"
   ]
  },
  {
   "cell_type": "markdown",
   "metadata": {},
   "source": [
    "## Scaling, Encoding"
   ]
  },
  {
   "cell_type": "markdown",
   "metadata": {},
   "source": [
    "### 1. Numeric Category 컬럼 분류"
   ]
  },
  {
   "cell_type": "code",
   "execution_count": 29,
   "metadata": {},
   "outputs": [
    {
     "name": "stdout",
     "output_type": "stream",
     "text": [
      "Number of Numerical features:  18\n",
      "Number of Categorical features:  9\n"
     ]
    }
   ],
   "source": [
    "numerical_feats = train.dtypes[train.dtypes != \"object\"].index.tolist()\n",
    "numerical_feats.remove('credit')\n",
    "print(\"Number of Numerical features: \", len(numerical_feats))\n",
    "\n",
    "categorical_feats = train.dtypes[train.dtypes == \"object\"].index.tolist()\n",
    "print(\"Number of Categorical features: \", len(categorical_feats))"
   ]
  },
  {
   "cell_type": "code",
   "execution_count": 30,
   "metadata": {},
   "outputs": [
    {
     "data": {
      "text/plain": [
       "['income_total',\n",
       " 'work_phone',\n",
       " 'phone',\n",
       " 'email',\n",
       " 'family_size',\n",
       " 'begin_month',\n",
       " 'before_EMPLOYED',\n",
       " 'income_total_befofeEMP_ratio',\n",
       " 'before_EMPLOYED_m',\n",
       " 'before_EMPLOYED_w',\n",
       " 'Age',\n",
       " 'DAYS_BIRTH_m',\n",
       " 'DAYS_BIRTH_w',\n",
       " 'EMPLOYED',\n",
       " 'DAYS_EMPLOYED_m',\n",
       " 'DAYS_EMPLOYED_w',\n",
       " 'ability',\n",
       " 'income_mean']"
      ]
     },
     "execution_count": 30,
     "metadata": {},
     "output_type": "execute_result"
    }
   ],
   "source": [
    "numerical_feats"
   ]
  },
  {
   "cell_type": "code",
   "execution_count": 31,
   "metadata": {},
   "outputs": [
    {
     "data": {
      "text/plain": [
       "['gender',\n",
       " 'car',\n",
       " 'reality',\n",
       " 'income_type',\n",
       " 'edu_type',\n",
       " 'family_type',\n",
       " 'house_type',\n",
       " 'occyp_type',\n",
       " 'ID']"
      ]
     },
     "execution_count": 31,
     "metadata": {},
     "output_type": "execute_result"
    }
   ],
   "source": [
    "categorical_feats"
   ]
  },
  {
   "cell_type": "markdown",
   "metadata": {},
   "source": [
    "### 2.Log Scale"
   ]
  },
  {
   "cell_type": "code",
   "execution_count": 32,
   "metadata": {},
   "outputs": [],
   "source": [
    "for df in [train,test]:\n",
    "    df['income_total'] = np.log1p(1+df['income_total'])"
   ]
  },
  {
   "cell_type": "markdown",
   "metadata": {},
   "source": [
    "### 3. OrdinalEncoder\n",
    "* Categorial feature에 대한 순서형 코딩이라고 하며, 각 범주들을 특성으로 변경하지 않고, 그 안에서 1,2,3등의 숫자로 변경하는 방법. \n",
    "* 범주가 너무 많아 one hot encoding을 하기 애매한 상황에서 이용하기 좋은 인코딩 방법. \n",
    "* 트리 모델은 중요한 feature가 상위 노드를 점하여 분할을 하게 되는데, one hot encoding을 한 feature는 뽑히기에 불리한 상태가 되므로 대안으로 사용함 \n",
    "* 카테고리 변수는 ordinal_encoder 변환\n",
    "* ID는 변환 후 정수 처리"
   ]
  },
  {
   "cell_type": "code",
   "execution_count": 33,
   "metadata": {},
   "outputs": [],
   "source": [
    "encoder = OrdinalEncoder(categorical_feats)\n",
    "train[categorical_feats] = encoder.fit_transform(train[categorical_feats], train['credit'])\n",
    "test[categorical_feats] = encoder.transform(test[categorical_feats])\n",
    "\n",
    "train['ID'] = train['ID'].astype('int64')\n",
    "test['ID'] = test['ID'].astype('int64')"
   ]
  },
  {
   "cell_type": "markdown",
   "metadata": {},
   "source": [
    "### 4. 클러스터링 구성 \n",
    "타겟을 결정짓는 뚜렷한 특징을 갖는 feature를 찾지 못해 clustering 시도"
   ]
  },
  {
   "cell_type": "code",
   "execution_count": 34,
   "metadata": {},
   "outputs": [],
   "source": [
    "kmeans_train = train.drop(['credit'], axis=1)\n",
    "kmeans = KMeans(n_clusters=36, random_state=42).fit(kmeans_train)\n",
    "train['cluster'] = kmeans.predict(kmeans_train)\n",
    "test['cluster'] = kmeans.predict(test)"
   ]
  },
  {
   "cell_type": "code",
   "execution_count": 35,
   "metadata": {},
   "outputs": [
    {
     "data": {
      "text/plain": [
       "0        35\n",
       "1         7\n",
       "2        18\n",
       "3        35\n",
       "4         7\n",
       "         ..\n",
       "26446    31\n",
       "26447    10\n",
       "26448    32\n",
       "26449    13\n",
       "26450    23\n",
       "Name: cluster, Length: 26451, dtype: int32"
      ]
     },
     "execution_count": 35,
     "metadata": {},
     "output_type": "execute_result"
    }
   ],
   "source": [
    "train['cluster']"
   ]
  },
  {
   "cell_type": "markdown",
   "metadata": {},
   "source": [
    "### 4. StandardScale\n",
    "이미 로그변환을 진행한 income_total을 제외한 나머지 numeric 컬럼 정규화"
   ]
  },
  {
   "cell_type": "code",
   "execution_count": 37,
   "metadata": {},
   "outputs": [],
   "source": [
    "numerical_feats.remove('income_total')\n",
    "scaler = StandardScaler()\n",
    "train[numerical_feats] = scaler.fit_transform(train[numerical_feats])\n",
    "test[numerical_feats] = scaler.transform(test[numerical_feats])\n"
   ]
  },
  {
   "cell_type": "markdown",
   "metadata": {},
   "source": [
    "## Modeling- catboost"
   ]
  },
  {
   "cell_type": "markdown",
   "metadata": {},
   "source": [
    "fold수를 15로 설정"
   ]
  },
  {
   "cell_type": "code",
   "execution_count": 38,
   "metadata": {},
   "outputs": [],
   "source": [
    "n_est = 2000\n",
    "seed = 42\n",
    "n_fold = 15\n",
    "n_class = 3\n",
    "\n",
    "target = 'credit'\n",
    "X = train.drop(target, axis=1)\n",
    "y = train[target]\n",
    "X_test = test"
   ]
  },
  {
   "cell_type": "code",
   "execution_count": 46,
   "metadata": {},
   "outputs": [
    {
     "name": "stdout",
     "output_type": "stream",
     "text": [
      "\n",
      "----------------- Fold 0 -----------------\n",
      "\n",
      "Learning rate set to 0.115127\n",
      "0:\tlearn: 1.0346960\ttest: 1.0333820\tbest: 1.0333820 (0)\ttotal: 156ms\tremaining: 2m 35s\n",
      "100:\tlearn: 0.7044704\ttest: 0.6427096\tbest: 0.6427096 (100)\ttotal: 3.32s\tremaining: 29.6s\n",
      "200:\tlearn: 0.6843687\ttest: 0.6403953\tbest: 0.6402982 (176)\ttotal: 6.43s\tremaining: 25.6s\n",
      "300:\tlearn: 0.6680286\ttest: 0.6392776\tbest: 0.6392019 (296)\ttotal: 9.46s\tremaining: 22s\n",
      "400:\tlearn: 0.6515064\ttest: 0.6392338\tbest: 0.6388684 (397)\ttotal: 12.5s\tremaining: 18.7s\n",
      "500:\tlearn: 0.6338447\ttest: 0.6414953\tbest: 0.6386980 (412)\ttotal: 15.5s\tremaining: 15.5s\n",
      "Stopped by overfitting detector  (100 iterations wait)\n",
      "\n",
      "bestTest = 0.6386980408\n",
      "bestIteration = 412\n",
      "\n",
      "Shrink model to first 413 iterations.\n",
      "CV Log Loss Score: 0.638698\n",
      "\n",
      "----------------- Fold 1 -----------------\n",
      "\n",
      "Learning rate set to 0.115127\n",
      "0:\tlearn: 1.0346110\ttest: 1.0339653\tbest: 1.0339653 (0)\ttotal: 10.4ms\tremaining: 10.4s\n",
      "100:\tlearn: 0.7034876\ttest: 0.6759823\tbest: 0.6757272 (93)\ttotal: 2.96s\tremaining: 26.4s\n",
      "200:\tlearn: 0.6850424\ttest: 0.6757861\tbest: 0.6751435 (181)\ttotal: 6.03s\tremaining: 24s\n",
      "Stopped by overfitting detector  (100 iterations wait)\n",
      "\n",
      "bestTest = 0.6751434693\n",
      "bestIteration = 181\n",
      "\n",
      "Shrink model to first 182 iterations.\n",
      "CV Log Loss Score: 0.675143\n",
      "\n",
      "----------------- Fold 2 -----------------\n",
      "\n",
      "Learning rate set to 0.115127\n",
      "0:\tlearn: 1.0344416\ttest: 1.0352826\tbest: 1.0352826 (0)\ttotal: 10.4ms\tremaining: 10.4s\n",
      "100:\tlearn: 0.7036051\ttest: 0.6489458\tbest: 0.6487653 (98)\ttotal: 3.19s\tremaining: 28.4s\n",
      "200:\tlearn: 0.6850680\ttest: 0.6491882\tbest: 0.6481854 (119)\ttotal: 6.26s\tremaining: 24.9s\n",
      "Stopped by overfitting detector  (100 iterations wait)\n",
      "\n",
      "bestTest = 0.648185394\n",
      "bestIteration = 119\n",
      "\n",
      "Shrink model to first 120 iterations.\n",
      "CV Log Loss Score: 0.648185\n",
      "\n",
      "----------------- Fold 3 -----------------\n",
      "\n",
      "Learning rate set to 0.115127\n",
      "0:\tlearn: 1.0343459\ttest: 1.0361116\tbest: 1.0361116 (0)\ttotal: 8.26ms\tremaining: 8.25s\n",
      "100:\tlearn: 0.7039063\ttest: 0.6542232\tbest: 0.6542034 (99)\ttotal: 2.85s\tremaining: 25.4s\n",
      "200:\tlearn: 0.6838496\ttest: 0.6493739\tbest: 0.6493739 (200)\ttotal: 5.83s\tremaining: 23.2s\n",
      "300:\tlearn: 0.6665829\ttest: 0.6477070\tbest: 0.6475397 (296)\ttotal: 8.81s\tremaining: 20.5s\n",
      "400:\tlearn: 0.6491826\ttest: 0.6465468\tbest: 0.6462412 (362)\ttotal: 11.8s\tremaining: 17.6s\n",
      "Stopped by overfitting detector  (100 iterations wait)\n",
      "\n",
      "bestTest = 0.646241213\n",
      "bestIteration = 362\n",
      "\n",
      "Shrink model to first 363 iterations.\n",
      "CV Log Loss Score: 0.646241\n",
      "\n",
      "----------------- Fold 4 -----------------\n",
      "\n",
      "Learning rate set to 0.115127\n",
      "0:\tlearn: 1.0345362\ttest: 1.0346529\tbest: 1.0346529 (0)\ttotal: 11ms\tremaining: 11s\n",
      "100:\tlearn: 0.7026560\ttest: 0.6686018\tbest: 0.6684092 (98)\ttotal: 2.84s\tremaining: 25.3s\n",
      "200:\tlearn: 0.6842462\ttest: 0.6684739\tbest: 0.6682346 (135)\ttotal: 5.84s\tremaining: 23.2s\n",
      "Stopped by overfitting detector  (100 iterations wait)\n",
      "\n",
      "bestTest = 0.6682346059\n",
      "bestIteration = 135\n",
      "\n",
      "Shrink model to first 136 iterations.\n",
      "CV Log Loss Score: 0.668235\n",
      "\n",
      "----------------- Fold 5 -----------------\n",
      "\n",
      "Learning rate set to 0.115127\n",
      "0:\tlearn: 1.0346355\ttest: 1.0337960\tbest: 1.0337960 (0)\ttotal: 10.5ms\tremaining: 10.5s\n",
      "100:\tlearn: 0.7009499\ttest: 0.6734212\tbest: 0.6734212 (100)\ttotal: 2.93s\tremaining: 26.1s\n",
      "200:\tlearn: 0.6802634\ttest: 0.6729243\tbest: 0.6725509 (187)\ttotal: 6.11s\tremaining: 24.3s\n",
      "300:\tlearn: 0.6622096\ttest: 0.6727598\tbest: 0.6718149 (254)\ttotal: 9.14s\tremaining: 21.2s\n",
      "Stopped by overfitting detector  (100 iterations wait)\n",
      "\n",
      "bestTest = 0.6718148789\n",
      "bestIteration = 254\n",
      "\n",
      "Shrink model to first 255 iterations.\n",
      "CV Log Loss Score: 0.671815\n",
      "\n",
      "----------------- Fold 6 -----------------\n",
      "\n",
      "Learning rate set to 0.115127\n",
      "0:\tlearn: 1.0356731\ttest: 1.0344898\tbest: 1.0344898 (0)\ttotal: 38.8ms\tremaining: 38.8s\n",
      "100:\tlearn: 0.7037981\ttest: 0.6663075\tbest: 0.6662509 (99)\ttotal: 2.99s\tremaining: 26.6s\n",
      "200:\tlearn: 0.6838192\ttest: 0.6650565\tbest: 0.6643402 (185)\ttotal: 6.11s\tremaining: 24.3s\n",
      "Stopped by overfitting detector  (100 iterations wait)\n",
      "\n",
      "bestTest = 0.6643401989\n",
      "bestIteration = 185\n",
      "\n",
      "Shrink model to first 186 iterations.\n",
      "CV Log Loss Score: 0.664340\n",
      "\n",
      "----------------- Fold 7 -----------------\n",
      "\n",
      "Learning rate set to 0.115127\n",
      "0:\tlearn: 1.0345715\ttest: 1.0351628\tbest: 1.0351628 (0)\ttotal: 31.8ms\tremaining: 31.8s\n",
      "100:\tlearn: 0.7035536\ttest: 0.6789351\tbest: 0.6789070 (93)\ttotal: 3.03s\tremaining: 27s\n",
      "200:\tlearn: 0.6832570\ttest: 0.6757529\tbest: 0.6752324 (189)\ttotal: 6.14s\tremaining: 24.4s\n",
      "300:\tlearn: 0.6670520\ttest: 0.6754091\tbest: 0.6750633 (220)\ttotal: 9.19s\tremaining: 21.3s\n",
      "Stopped by overfitting detector  (100 iterations wait)\n",
      "\n",
      "bestTest = 0.6750632617\n",
      "bestIteration = 220\n",
      "\n",
      "Shrink model to first 221 iterations.\n",
      "CV Log Loss Score: 0.675063\n",
      "\n",
      "----------------- Fold 8 -----------------\n",
      "\n",
      "Learning rate set to 0.115127\n",
      "0:\tlearn: 1.0353271\ttest: 1.0367616\tbest: 1.0367616 (0)\ttotal: 42.4ms\tremaining: 42.3s\n",
      "100:\tlearn: 0.7023225\ttest: 0.6785303\tbest: 0.6785303 (100)\ttotal: 3.11s\tremaining: 27.6s\n",
      "200:\tlearn: 0.6844366\ttest: 0.6778511\tbest: 0.6775951 (167)\ttotal: 6.28s\tremaining: 25s\n",
      "300:\tlearn: 0.6653033\ttest: 0.6772128\tbest: 0.6768504 (293)\ttotal: 9.35s\tremaining: 21.7s\n",
      "400:\tlearn: 0.6473431\ttest: 0.6783491\tbest: 0.6764797 (341)\ttotal: 12.4s\tremaining: 18.6s\n",
      "Stopped by overfitting detector  (100 iterations wait)\n",
      "\n",
      "bestTest = 0.6764797248\n",
      "bestIteration = 341\n",
      "\n",
      "Shrink model to first 342 iterations.\n",
      "CV Log Loss Score: 0.676480\n",
      "\n",
      "----------------- Fold 9 -----------------\n",
      "\n",
      "Learning rate set to 0.115127\n",
      "0:\tlearn: 1.0346637\ttest: 1.0346430\tbest: 1.0346430 (0)\ttotal: 30.4ms\tremaining: 30.3s\n",
      "100:\tlearn: 0.7048652\ttest: 0.6568705\tbest: 0.6568705 (100)\ttotal: 3.05s\tremaining: 27.1s\n",
      "200:\tlearn: 0.6856532\ttest: 0.6534331\tbest: 0.6534331 (200)\ttotal: 6.2s\tremaining: 24.6s\n",
      "300:\tlearn: 0.6671916\ttest: 0.6534666\tbest: 0.6532546 (202)\ttotal: 9.33s\tremaining: 21.7s\n",
      "Stopped by overfitting detector  (100 iterations wait)\n",
      "\n",
      "bestTest = 0.6532545671\n",
      "bestIteration = 202\n",
      "\n",
      "Shrink model to first 203 iterations.\n",
      "CV Log Loss Score: 0.653255\n",
      "\n",
      "----------------- Fold 10 -----------------\n",
      "\n",
      "Learning rate set to 0.115127\n",
      "0:\tlearn: 1.0345792\ttest: 1.0350566\tbest: 1.0350566 (0)\ttotal: 31.8ms\tremaining: 31.8s\n",
      "100:\tlearn: 0.7040088\ttest: 0.6660378\tbest: 0.6660378 (100)\ttotal: 2.95s\tremaining: 26.2s\n",
      "200:\tlearn: 0.6839917\ttest: 0.6628509\tbest: 0.6628123 (199)\ttotal: 6.06s\tremaining: 24.1s\n",
      "300:\tlearn: 0.6667224\ttest: 0.6639842\tbest: 0.6624486 (206)\ttotal: 9.23s\tremaining: 21.4s\n",
      "Stopped by overfitting detector  (100 iterations wait)\n",
      "\n",
      "bestTest = 0.6624485749\n",
      "bestIteration = 206\n",
      "\n",
      "Shrink model to first 207 iterations.\n",
      "CV Log Loss Score: 0.662449\n",
      "\n",
      "----------------- Fold 11 -----------------\n",
      "\n",
      "Learning rate set to 0.115127\n",
      "0:\tlearn: 1.0345824\ttest: 1.0349800\tbest: 1.0349800 (0)\ttotal: 33.4ms\tremaining: 33.4s\n",
      "100:\tlearn: 0.7021271\ttest: 0.6929493\tbest: 0.6929012 (97)\ttotal: 3.13s\tremaining: 27.9s\n",
      "200:\tlearn: 0.6843244\ttest: 0.6916146\tbest: 0.6910816 (179)\ttotal: 6.21s\tremaining: 24.7s\n",
      "Stopped by overfitting detector  (100 iterations wait)\n",
      "\n",
      "bestTest = 0.6910815521\n",
      "bestIteration = 179\n",
      "\n",
      "Shrink model to first 180 iterations.\n",
      "CV Log Loss Score: 0.691082\n",
      "\n",
      "----------------- Fold 12 -----------------\n",
      "\n",
      "Learning rate set to 0.115127\n",
      "0:\tlearn: 1.0355737\ttest: 1.0356150\tbest: 1.0356150 (0)\ttotal: 37.5ms\tremaining: 37.5s\n",
      "100:\tlearn: 0.7049106\ttest: 0.6598953\tbest: 0.6598953 (100)\ttotal: 2.8s\tremaining: 24.9s\n",
      "200:\tlearn: 0.6867650\ttest: 0.6573934\tbest: 0.6572431 (188)\ttotal: 5.79s\tremaining: 23s\n",
      "300:\tlearn: 0.6695676\ttest: 0.6567470\tbest: 0.6562239 (264)\ttotal: 8.81s\tremaining: 20.5s\n",
      "Stopped by overfitting detector  (100 iterations wait)\n",
      "\n",
      "bestTest = 0.6562239203\n",
      "bestIteration = 264\n",
      "\n",
      "Shrink model to first 265 iterations.\n",
      "CV Log Loss Score: 0.656224\n",
      "\n",
      "----------------- Fold 13 -----------------\n",
      "\n",
      "Learning rate set to 0.115127\n",
      "0:\tlearn: 1.0357358\ttest: 1.0346673\tbest: 1.0346673 (0)\ttotal: 57ms\tremaining: 56.9s\n",
      "100:\tlearn: 0.7019788\ttest: 0.6847157\tbest: 0.6844540 (85)\ttotal: 2.98s\tremaining: 26.6s\n",
      "200:\tlearn: 0.6819816\ttest: 0.6836538\tbest: 0.6835509 (198)\ttotal: 6.06s\tremaining: 24.1s\n",
      "300:\tlearn: 0.6634154\ttest: 0.6842024\tbest: 0.6830530 (222)\ttotal: 9s\tremaining: 20.9s\n",
      "Stopped by overfitting detector  (100 iterations wait)\n",
      "\n",
      "bestTest = 0.6830530121\n",
      "bestIteration = 222\n",
      "\n",
      "Shrink model to first 223 iterations.\n",
      "CV Log Loss Score: 0.683053\n",
      "\n",
      "----------------- Fold 14 -----------------\n",
      "\n",
      "Learning rate set to 0.115127\n",
      "0:\tlearn: 1.0346954\ttest: 1.0340314\tbest: 1.0340314 (0)\ttotal: 44ms\tremaining: 43.9s\n",
      "100:\tlearn: 0.7061306\ttest: 0.6740026\tbest: 0.6740026 (100)\ttotal: 2.98s\tremaining: 26.5s\n",
      "200:\tlearn: 0.6865332\ttest: 0.6718720\tbest: 0.6717625 (197)\ttotal: 6.09s\tremaining: 24.2s\n",
      "300:\tlearn: 0.6668860\ttest: 0.6697020\tbest: 0.6695870 (299)\ttotal: 9.18s\tremaining: 21.3s\n",
      "400:\tlearn: 0.6495369\ttest: 0.6701000\tbest: 0.6692944 (317)\ttotal: 12.3s\tremaining: 18.3s\n",
      "Stopped by overfitting detector  (100 iterations wait)\n",
      "\n",
      "bestTest = 0.669294369\n",
      "bestIteration = 317\n",
      "\n",
      "Shrink model to first 318 iterations.\n",
      "CV Log Loss Score: 0.669294\n",
      "\tLog Loss: 0.665302\n"
     ]
    }
   ],
   "source": [
    "skfold = StratifiedKFold(n_splits=n_fold, shuffle=True, random_state=seed)\n",
    "folds = []\n",
    "\n",
    "for train_idx,valid_idx in skfold.split(X,y):\n",
    "    folds.append((train_idx,valid_idx))\n",
    "\n",
    "cat_pred = np.zeros((X.shape[0], n_class))\n",
    "cat_pred_test = np.zeros((X_test.shape[0], n_class))\n",
    "\n",
    "cat_cols = ['income_type', 'edu_type', 'family_type', 'house_type', 'occyp_type', 'ID']\n",
    "for fold in range(n_fold):\n",
    "  print(f'\\n----------------- Fold {fold} -----------------\\n')\n",
    "  train_idx, valid_idx = folds[fold]\n",
    "  X_train, X_valid, y_train, y_valid = X.iloc[train_idx], X.iloc[valid_idx], y[train_idx], y[valid_idx]\n",
    "  train_data = Pool(data=X_train, label=y_train, cat_features=cat_cols)\n",
    "  valid_data = Pool(data=X_valid, label=y_valid, cat_features=cat_cols)\n",
    "\n",
    "  model_cat = CatBoostClassifier()\n",
    "  model_cat.fit(train_data, eval_set=valid_data, use_best_model=True, early_stopping_rounds=100, verbose=100)\n",
    "  \n",
    "  cat_pred[valid_idx] = model_cat.predict_proba(X_valid)\n",
    "  cat_pred_test += model_cat.predict_proba(X_test) / n_fold\n",
    "  print(f'CV Log Loss Score: {log_loss(y_valid, cat_pred[valid_idx]):.6f}')\n",
    "    \n",
    "print(f'\\tLog Loss: {log_loss(y, cat_pred):.6f}')\n"
   ]
  },
  {
   "cell_type": "markdown",
   "metadata": {},
   "source": [
    "## Feature Importance"
   ]
  },
  {
   "cell_type": "code",
   "execution_count": 47,
   "metadata": {},
   "outputs": [],
   "source": [
    "def plot_feature_importance(importance,names,model_type):\n",
    "    \n",
    "    feature_importance = np.array(importance)\n",
    "    feature_names = np.array(names)\n",
    "    \n",
    "    data={'feature_names':feature_names,'feature_importance':feature_importance}\n",
    "    fi_df = pd.DataFrame(data)\n",
    "    \n",
    "    fi_df.sort_values(by=['feature_importance'], ascending=False,inplace=True)\n",
    "\n",
    "    plt.figure(figsize=(10,8))\n",
    "\n",
    "    sns.barplot(x=fi_df['feature_importance'], y=fi_df['feature_names'])\n",
    "\n",
    "    plt.title(model_type + ' Feature Importance')\n",
    "    plt.xlabel('Feature Importance')\n",
    "    plt.ylabel('Feature Names')"
   ]
  },
  {
   "cell_type": "code",
   "execution_count": 48,
   "metadata": {},
   "outputs": [
    {
     "data": {
      "image/png": "[encoded data removed]",
      "text/plain": [
       "<Figure size 720x576 with 1 Axes>"
      ]
     },
     "metadata": {
      "needs_background": "light"
     },
     "output_type": "display_data"
    }
   ],
   "source": [
    "plot_feature_importance(model_cat.get_feature_importance(),X_test.columns,'CATBOOST')"
   ]
  },
  {
   "cell_type": "markdown",
   "metadata": {},
   "source": [
    "### Reference\n",
    "https://dacon.io/competitions/official/235713/codeshare/2768?page=1&dtype=recent"
   ]
  }
 ],
 "metadata": {
  "kernelspec": {
   "display_name": "Python 3.9.12 ('base')",
   "language": "python",
   "name": "python3"
  },
  "language_info": {
   "codemirror_mode": {
    "name": "ipython",
    "version": 3
   },
   "file_extension": ".py",
   "mimetype": "text/x-python",
   "name": "python",
   "nbconvert_exporter": "python",
   "pygments_lexer": "ipython3",
   "version": "3.9.12"
  },
  "orig_nbformat": 4,
  "vscode": {
   "interpreter": {
    "hash": "c38845287c5c464ba778d7a7fdb49f98ec4f5994a7e44c700d8c1b12c27ce90a"
   }
  }
 },
 "nbformat": 4,
 "nbformat_minor": 2
}
