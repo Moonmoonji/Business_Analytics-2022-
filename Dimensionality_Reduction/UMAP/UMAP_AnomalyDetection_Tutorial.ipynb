{
 "cells": [
  {
   "cell_type": "markdown",
   "metadata": {},
   "source": [
    "# Anomaly Detection with UMAP "
   ]
  },
  {
   "cell_type": "markdown",
   "metadata": {},
   "source": [
    "### 📌사용할 데이터셋 \n",
    "Kaggle TPS September Competition data : 고객이 보험에 가입했는지 여부를 예측하기 위한 데이터셋이다. <br/>\n",
    "target값인 \"claim\"은 binary이고 (T/F) 예측값은 0에서 1사이의 값으로 나타날 수 있다. \n",
    "\n"
   ]
  },
  {
   "cell_type": "markdown",
   "metadata": {},
   "source": [
    "### 📌베이스라인 AD모델 \n",
    "Isolation Forest : 밀도기반 이상탐지 모델로, 데이터셋을 의사결정나무로 형태로 표현해 정상값을 분리하기 위해서 의사결정나무 깊숙하게 타고 내려가야 하고, 반대로 이상값은 의사결정나무 상단부에서 분리할 수 있다는 것을 이용하는 모델이다. \n",
    "\n",
    "👍장점\n",
    "* 군집기반 이상탐지 알고리즘에 비해 계산량이 매우 적다\n",
    "* 강건한 모델을 만들 수 있다. "
   ]
  },
  {
   "cell_type": "markdown",
   "metadata": {},
   "source": [
    "#### 데이터 차원 축소(UMAP)적용"
   ]
  },
  {
   "cell_type": "code",
   "execution_count": 14,
   "metadata": {},
   "outputs": [
    {
     "data": {
      "text/plain": [
       "(359464, 120)"
      ]
     },
     "execution_count": 14,
     "metadata": {},
     "output_type": "execute_result"
    }
   ],
   "source": [
    "import datatable as dt\n",
    "import pandas as pd\n",
    "import umap\n",
    "\n",
    "# Train data 읽어들이기(빠르게 읽어들여서 테이블 형식으로 만들기 위해 datatable의 fread 사용)\n",
    "tps = dt.fread(\"C:/Users/JiwonMoon/Desktop/Data/tabular-playground-series-sep-2021/train.csv\").to_pandas()\n",
    "\n",
    "# 결측 삭제해줌 \n",
    "tps = tps.dropna(axis=0)\n",
    "tps.shape"
   ]
  },
  {
   "cell_type": "code",
   "execution_count": 15,
   "metadata": {},
   "outputs": [],
   "source": [
    "# X,y 설정해주기\n",
    "X,y = tps.drop(\"claim\",axis=1), tps[[\"claim\"]].values.flatten()"
   ]
  },
  {
   "cell_type": "code",
   "execution_count": 16,
   "metadata": {},
   "outputs": [],
   "source": [
    "# Manifold 초기화 해줌 \n",
    "#차원을 2차원으로 축소시킬거기 때문에 n_component는 2로 설정\n",
    "manifold = umap.UMAP(n_components=2)\n",
    "manifold.fit(X,y)\n",
    "\n",
    "X_2d  = manifold.transform(X)"
   ]
  },
  {
   "cell_type": "markdown",
   "metadata": {},
   "source": [
    "#### 베이스라인 모델구축 (Isolation Forest)\n",
    "\n",
    "##### 🎯 벤치마크 모델 = catboost classifier\n",
    ": 베이스라인 모델 구축하기 전에, 벤치마크 모델에 적용했을 때의 성능확인 "
   ]
  },
  {
   "cell_type": "code",
   "execution_count": 18,
   "metadata": {},
   "outputs": [
    {
     "name": "stderr",
     "output_type": "stream",
     "text": [
      "c:\\Users\\JiwonMoon\\anaconda3\\lib\\site-packages\\numpy\\core\\fromnumeric.py:86: RuntimeWarning: invalid value encountered in reduce\n",
      "  return ufunc.reduce(obj, axis, dtype, out, **passkwargs)\n",
      "c:\\Users\\JiwonMoon\\anaconda3\\lib\\site-packages\\numpy\\core\\fromnumeric.py:86: RuntimeWarning: invalid value encountered in reduce\n",
      "  return ufunc.reduce(obj, axis, dtype, out, **passkwargs)\n",
      "c:\\Users\\JiwonMoon\\anaconda3\\lib\\site-packages\\numpy\\core\\fromnumeric.py:86: RuntimeWarning: invalid value encountered in reduce\n",
      "  return ufunc.reduce(obj, axis, dtype, out, **passkwargs)\n"
     ]
    },
    {
     "data": {
      "text/plain": [
       "0.7846295472199392"
      ]
     },
     "execution_count": 18,
     "metadata": {},
     "output_type": "execute_result"
    }
   ],
   "source": [
    "from sklearn.ensemble import IsolationForest\n",
    "from sklearn.pipeline import make_pipeline \n",
    "from sklearn.model_selection import train_test_split\n",
    "from sklearn.impute import SimpleImputer #결측치 채우는 패키지 \n",
    "import catboost as cb\n",
    "from sklearn.metrics import roc_auc_score \n",
    "\n",
    "# 벤치마크 모델 설정중 (Catboost)\n",
    "tps = dt.fread(\"C:/Users/JiwonMoon/Desktop/Data/tabular-playground-series-sep-2021/train.csv\").to_pandas()\n",
    "X, y = tps.drop(\"claim\", axis=1), tps[[\"claim\"]].values.flatten()\n",
    "\n",
    "\n",
    "X_train, X_valid, y_train, y_valid = train_test_split(\n",
    "    X, y, random_state=11212128, test_size=0.1\n",
    ")\n",
    "\n",
    "pipe = make_pipeline(\n",
    "    SimpleImputer(),\n",
    "    cb.CatBoostClassifier(task_type=\"GPU\", n_estimators=1000, verbose=False),\n",
    ")\n",
    "\n",
    "pipe.fit(X_train, y_train)\n",
    "preds = pipe.predict_proba(X_valid)\n",
    "\n",
    "roc_auc_score(y_valid, preds[:, 1])"
   ]
  },
  {
   "cell_type": "markdown",
   "metadata": {},
   "source": [
    "##### 베이스라인 모델에 적용 (Isolation Forest)"
   ]
  },
  {
   "cell_type": "code",
   "execution_count": 20,
   "metadata": {},
   "outputs": [
    {
     "name": "stderr",
     "output_type": "stream",
     "text": [
      "c:\\Users\\JiwonMoon\\anaconda3\\lib\\site-packages\\numpy\\core\\fromnumeric.py:86: RuntimeWarning: invalid value encountered in reduce\n",
      "  return ufunc.reduce(obj, axis, dtype, out, **passkwargs)\n",
      "c:\\Users\\JiwonMoon\\anaconda3\\lib\\site-packages\\numpy\\core\\fromnumeric.py:86: RuntimeWarning: invalid value encountered in reduce\n",
      "  return ufunc.reduce(obj, axis, dtype, out, **passkwargs)\n"
     ]
    },
    {
     "name": "stdout",
     "output_type": "stream",
     "text": [
      "156917\n",
      "CPU times: total: 2h 31min 25s\n",
      "Wall time: 11min 26s\n"
     ]
    }
   ],
   "source": [
    "%%time\n",
    "from sklearn.preprocessing import QuantileTransformer\n",
    "\n",
    "tps = dt.fread(\"C:/Users/JiwonMoon/Desktop/Data/tabular-playground-series-sep-2021/train.csv\").to_pandas()\n",
    "X, y = tps.drop(\"claim\", axis=1), tps[[\"claim\"]].values.flatten()\n",
    "\n",
    "# 파이프라인 구성(결측값 채우기, QuantileTransformer)\n",
    "# Quantiletransform이란? : 1000개의 quantile을 이용해서 데이터를 균등하게 분포시킨다. quantile을 이용하는 Robust Scaler와 똑같이 outlier에 민감하지 않다. 전체데이터를 MinMaxScaler와 비슷하게 0과 1사이로 압축시킨다. \n",
    "pipe = make_pipeline(SimpleImputer(), QuantileTransformer(),umap.UMAP(n_components=5))\n",
    "X_processed = pipe.fit_transform(X) \n",
    "\n",
    "# Isolation Forest 적용하고 정상(1) 비정상(-1) 예측 \n",
    "iso = IsolationForest(n_estimators=500, n_jobs=9)\n",
    "labels = iso.fit_predict(X_processed)\n",
    "\n",
    "# 비정상이라고 구분된 label 개수 count하기 \n",
    "import numpy as np \n",
    "print(np.sum(labels == -1)) "
   ]
  },
  {
   "cell_type": "markdown",
   "metadata": {},
   "source": [
    "##### Outlier 제거 후 벤치마크 모델에 적용해서 성능 비교 "
   ]
  },
  {
   "cell_type": "code",
   "execution_count": 21,
   "metadata": {},
   "outputs": [
    {
     "name": "stderr",
     "output_type": "stream",
     "text": [
      "c:\\Users\\JiwonMoon\\anaconda3\\lib\\site-packages\\numpy\\core\\fromnumeric.py:86: RuntimeWarning: invalid value encountered in reduce\n",
      "  return ufunc.reduce(obj, axis, dtype, out, **passkwargs)\n",
      "c:\\Users\\JiwonMoon\\anaconda3\\lib\\site-packages\\numpy\\core\\fromnumeric.py:86: RuntimeWarning: invalid value encountered in reduce\n",
      "  return ufunc.reduce(obj, axis, dtype, out, **passkwargs)\n"
     ]
    },
    {
     "data": {
      "text/plain": [
       "0.7864196432357515"
      ]
     },
     "execution_count": 21,
     "metadata": {},
     "output_type": "execute_result"
    }
   ],
   "source": [
    "outlier_idx = np.where(labels == -1)[0]\n",
    "X_reduced = X.copy().drop(outlier_idx)\n",
    "y_reduced = np.delete(y, outlier_idx)\n",
    "\n",
    "# Impute again\n",
    "X_reduced_imputed = SimpleImputer().fit_transform(X_reduced)\n",
    "\n",
    "X_train, X_valid, y_train, y_valid = train_test_split(\n",
    "    X_reduced_imputed, y_reduced, random_state=1121218, test_size=0.1\n",
    ")\n",
    "\n",
    "clf = cb.CatBoostClassifier(task_type=\"GPU\", n_estimators=1000, verbose=False).fit(\n",
    "    X_train, y_train\n",
    ")\n",
    "\n",
    "preds = clf.predict_proba(X_valid)\n",
    "roc_auc_score(y_valid, preds[:, 1]) "
   ]
  },
  {
   "cell_type": "markdown",
   "metadata": {},
   "source": [
    "🔎 결과 해석 : <br/>\n",
    "Isolation Forest를 이용해 outlier를 제거한 후 catboost를 사용했을 때의 AUC는 0.786으로 제거하지 않았을 때 성능에 비해 소폭상승함을 확인할 수 있다. "
   ]
  },
  {
   "cell_type": "markdown",
   "metadata": {},
   "source": [
    "#### Reference\n",
    "https://towardsdatascience.com/how-to-use-umap-for-much-faster-and-effective-outlier-detection-e4608f336915 "
   ]
  },
  {
   "cell_type": "markdown",
   "metadata": {},
   "source": []
  }
 ],
 "metadata": {
  "kernelspec": {
   "display_name": "Python 3.9.12 ('base')",
   "language": "python",
   "name": "python3"
  },
  "language_info": {
   "codemirror_mode": {
    "name": "ipython",
    "version": 3
   },
   "file_extension": ".py",
   "mimetype": "text/x-python",
   "name": "python",
   "nbconvert_exporter": "python",
   "pygments_lexer": "ipython3",
   "version": "3.9.12"
  },
  "orig_nbformat": 4,
  "vscode": {
   "interpreter": {
    "hash": "c38845287c5c464ba778d7a7fdb49f98ec4f5994a7e44c700d8c1b12c27ce90a"
   }
  }
 },
 "nbformat": 4,
 "nbformat_minor": 2
}
